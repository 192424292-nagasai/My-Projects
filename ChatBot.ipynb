{
 "cells": [
  {
   "cell_type": "code",
   "execution_count": null,
   "id": "4fd65453",
   "metadata": {},
   "outputs": [
    {
     "name": "stdout",
     "output_type": "stream",
     "text": [
      "hi! how can i help you\n"
     ]
    }
   ],
   "source": [
    "#dict brain\n",
    "import difflib\n",
    "brain={'what is python':'it is a programming language',\n",
    "       'hi':'hi! how can i help you',\n",
    "       'what is ai':'ai is an intelligence that can help humans to boostup their performance',\n",
    "       'what is this laptop name':'asus vivobook 16',\n",
    "       'who is the prime minister of india':'narendra modi',\n",
    "       \"what is machine learning\": \"Machine Learning is a subset of Artificial Intelligence that focuses on the development of algorithms that can learn from and make predictions or decisions on data.\",\n",
    "  \"what is natural language processing\": \"Natural Language Processing is a subset of Artificial Intelligence that focuses on enabling computers to understand, interpret, and generate human language.\",\n",
    "  \"what is a chatbot\": \"A chatbot is an AI-powered software application designed to simulate human conversation.\",\n",
    "  \"what is the largest species of shark\": \"The whale shark is considered the largest species of shark, with adults reaching lengths of up to 40 feet or more and weighing several tons.\",\n",
    "  \"what is artificial neural network\": \"An Artificial Neural Network is a computing system inspired by the structure and function of the human brain.\"\n",
    "       }\n",
    "question=input(\"ask the question\")\n",
    "matches=difflib.get_close_matches(question,brain.keys(),n=1,cutoff=0.6)\n",
    "if matches:\n",
    "    best_answer=matches[0]\n",
    "    print(brain[best_answer])\n",
    "else:\n",
    "    print(\"i dont know thw answer\")"
   ]
  },
  {
   "cell_type": "code",
   "execution_count": 4,
   "id": "632985c5",
   "metadata": {},
   "outputs": [
    {
     "name": "stdout",
     "output_type": "stream",
     "text": [
      "it is a user friendly and easy programming language\n"
     ]
    }
   ],
   "source": [
    "#dataset brain\n",
    "import json\n",
    "import difflib\n",
    "with open(\"output.json\",\"r\",) as file:\n",
    "    data=json.load(file)\n",
    "    file.close\n",
    "brain={item[\"Question\"]: item[\"Answer\"] for item in data if \"Question\" in item and \"Answer\" in item}\n",
    "user_question=input(\"ask any question\")\n",
    "matching=difflib.get_close_matches(user_question,brain,n=1,cutoff=0.6)#changable based on search quality\n",
    "if matching:\n",
    "    best_one=matching[0]\n",
    "    print(brain[best_one])\n",
    "else:\n",
    "    print(\"can't find the answer\")"
   ]
  },
  {
   "cell_type": "code",
   "execution_count": null,
   "id": "5a0d02a0",
   "metadata": {},
   "outputs": [],
   "source": []
  }
 ],
 "metadata": {
  "kernelspec": {
   "display_name": "Python (.conda-aidsml)",
   "language": "python",
   "name": "aidsml_env"
  },
  "language_info": {
   "codemirror_mode": {
    "name": "ipython",
    "version": 3
   },
   "file_extension": ".py",
   "mimetype": "text/x-python",
   "name": "python",
   "nbconvert_exporter": "python",
   "pygments_lexer": "ipython3",
   "version": "3.12.11"
  }
 },
 "nbformat": 4,
 "nbformat_minor": 5
}
