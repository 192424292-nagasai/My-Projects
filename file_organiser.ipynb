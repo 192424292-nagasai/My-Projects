{
 "cells": [
  {
   "cell_type": "code",
   "execution_count": 1,
   "id": "06b4441c",
   "metadata": {},
   "outputs": [
    {
     "name": "stdout",
     "output_type": "stream",
     "text": [
      "the file copied\n"
     ]
    }
   ],
   "source": [
    "import shutil\n",
    "import os\n",
    "def photo(source):\n",
    "    isphoto=['.jpg','.jpeg','.png','.gif','.bmp','.tiff','.webp']\n",
    "    return os.path.splitext(source)[1].lower() in isphoto\n",
    "def video(source):\n",
    "    isvideo=['.mp4','.avi','.mov','.mkv','.flv','.wmv','.webm']\n",
    "    return os.path.splitext(source)[1].lower() in isvideo\n",
    "def screenshot(source):\n",
    "    isscreenshot=os.path.basename(source).lower()\n",
    "    return (\n",
    "        ('screenshot' in isscreenshot or isscreenshot.startswith('screenshot_'))\n",
    "    )\n",
    "source=r\"C:\\Users\\asus\\OneDrive\\Pictures\\Screenshots\\Screenshot 2025-07-01 145308.png\"\n",
    "if screenshot(source):\n",
    "    destination_folder='screenshots'\n",
    "elif photo(source):\n",
    "    destination_folder='photo'\n",
    "elif video(source):\n",
    "    destination_folder='video'\n",
    "else:\n",
    "    destination_folder='others'\n",
    "if not os.path.exists(destination_folder):\n",
    "    os.makedirs(destination_folder)\n",
    "file_name=os.path.basename(source)\n",
    "destination=os.path.join(destination_folder,file_name)\n",
    "if not os.path.exists(destination):\n",
    "    shutil.copy(source,destination)\n",
    "    print(\"the file copied\")\n",
    "else:\n",
    "    print(\"file already exista\")"
   ]
  },
  {
   "cell_type": "code",
   "execution_count": null,
   "id": "5cc71de6",
   "metadata": {},
   "outputs": [],
   "source": []
  },
  {
   "cell_type": "code",
   "execution_count": null,
   "id": "6a06123f",
   "metadata": {},
   "outputs": [],
   "source": []
  },
  {
   "cell_type": "code",
   "execution_count": null,
   "id": "a623deed",
   "metadata": {},
   "outputs": [],
   "source": []
  },
  {
   "cell_type": "code",
   "execution_count": null,
   "id": "b5c1e7ca",
   "metadata": {},
   "outputs": [],
   "source": []
  },
  {
   "cell_type": "code",
   "execution_count": null,
   "id": "24f16b10",
   "metadata": {},
   "outputs": [],
   "source": []
  },
  {
   "cell_type": "code",
   "execution_count": null,
   "id": "90e3fb73",
   "metadata": {},
   "outputs": [],
   "source": []
  },
  {
   "cell_type": "code",
   "execution_count": null,
   "id": "a86f8971",
   "metadata": {},
   "outputs": [],
   "source": []
  }
 ],
 "metadata": {
  "kernelspec": {
   "display_name": "Python (.conda-aidsml)",
   "language": "python",
   "name": "aidsml_env"
  },
  "language_info": {
   "codemirror_mode": {
    "name": "ipython",
    "version": 3
   },
   "file_extension": ".py",
   "mimetype": "text/x-python",
   "name": "python",
   "nbconvert_exporter": "python",
   "pygments_lexer": "ipython3",
   "version": "3.12.11"
  }
 },
 "nbformat": 4,
 "nbformat_minor": 5
}
